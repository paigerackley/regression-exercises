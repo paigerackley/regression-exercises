{
 "cells": [
  {
   "cell_type": "code",
   "execution_count": 12,
   "id": "64f9c52c",
   "metadata": {},
   "outputs": [],
   "source": [
    "import warnings\n",
    "warnings.filterwarnings(\"ignore\")\n",
    "\n",
    "import pandas as pd\n",
    "import numpy as np\n",
    "\n",
    "import matplotlib.pyplot as plt\n",
    "import seaborn as sns\n",
    "\n",
    "from itertools import combinations, product\n",
    "\n",
    "from sklearn.model_selection import train_test_split\n",
    "from sklearn.preprocessing import MinMaxScaler\n",
    "from scipy.stats import pearsonr, spearmanr\n",
    "\n",
    "# Custom Imports\n",
    "import wrangle"
   ]
  },
  {
   "cell_type": "markdown",
   "id": "a41833c0",
   "metadata": {},
   "source": [
    "## Acquire and Prepare Zillow"
   ]
  },
  {
   "cell_type": "code",
   "execution_count": 13,
   "id": "6d842c77",
   "metadata": {},
   "outputs": [
    {
     "data": {
      "text/html": [
       "<div>\n",
       "<style scoped>\n",
       "    .dataframe tbody tr th:only-of-type {\n",
       "        vertical-align: middle;\n",
       "    }\n",
       "\n",
       "    .dataframe tbody tr th {\n",
       "        vertical-align: top;\n",
       "    }\n",
       "\n",
       "    .dataframe thead th {\n",
       "        text-align: right;\n",
       "    }\n",
       "</style>\n",
       "<table border=\"1\" class=\"dataframe\">\n",
       "  <thead>\n",
       "    <tr style=\"text-align: right;\">\n",
       "      <th></th>\n",
       "      <th>bedroomcnt</th>\n",
       "      <th>bathroomcnt</th>\n",
       "      <th>square_feet</th>\n",
       "      <th>taxvaluedollarcnt</th>\n",
       "      <th>yearbuilt</th>\n",
       "      <th>taxamount</th>\n",
       "      <th>fips_name</th>\n",
       "    </tr>\n",
       "  </thead>\n",
       "  <tbody>\n",
       "    <tr>\n",
       "      <th>0</th>\n",
       "      <td>4</td>\n",
       "      <td>2.0</td>\n",
       "      <td>3633</td>\n",
       "      <td>296425</td>\n",
       "      <td>2005</td>\n",
       "      <td>6941.39</td>\n",
       "      <td>Los Angeles</td>\n",
       "    </tr>\n",
       "    <tr>\n",
       "      <th>1</th>\n",
       "      <td>3</td>\n",
       "      <td>4.0</td>\n",
       "      <td>1620</td>\n",
       "      <td>847770</td>\n",
       "      <td>2011</td>\n",
       "      <td>10244.94</td>\n",
       "      <td>Los Angeles</td>\n",
       "    </tr>\n",
       "    <tr>\n",
       "      <th>2</th>\n",
       "      <td>3</td>\n",
       "      <td>2.0</td>\n",
       "      <td>2077</td>\n",
       "      <td>646760</td>\n",
       "      <td>1926</td>\n",
       "      <td>7924.68</td>\n",
       "      <td>Los Angeles</td>\n",
       "    </tr>\n",
       "    <tr>\n",
       "      <th>6</th>\n",
       "      <td>3</td>\n",
       "      <td>1.0</td>\n",
       "      <td>1244</td>\n",
       "      <td>169471</td>\n",
       "      <td>1950</td>\n",
       "      <td>2532.88</td>\n",
       "      <td>Los Angeles</td>\n",
       "    </tr>\n",
       "    <tr>\n",
       "      <th>7</th>\n",
       "      <td>3</td>\n",
       "      <td>2.0</td>\n",
       "      <td>1300</td>\n",
       "      <td>233266</td>\n",
       "      <td>1950</td>\n",
       "      <td>3110.99</td>\n",
       "      <td>Los Angeles</td>\n",
       "    </tr>\n",
       "  </tbody>\n",
       "</table>\n",
       "</div>"
      ],
      "text/plain": [
       "   bedroomcnt  bathroomcnt  square_feet  taxvaluedollarcnt  yearbuilt  \\\n",
       "0           4          2.0         3633             296425       2005   \n",
       "1           3          4.0         1620             847770       2011   \n",
       "2           3          2.0         2077             646760       1926   \n",
       "6           3          1.0         1244             169471       1950   \n",
       "7           3          2.0         1300             233266       1950   \n",
       "\n",
       "   taxamount    fips_name  \n",
       "0    6941.39  Los Angeles  \n",
       "1   10244.94  Los Angeles  \n",
       "2    7924.68  Los Angeles  \n",
       "6    2532.88  Los Angeles  \n",
       "7    3110.99  Los Angeles  "
      ]
     },
     "execution_count": 13,
     "metadata": {},
     "output_type": "execute_result"
    }
   ],
   "source": [
    "df = wrangle.wrangle_zillow()\n",
    "df.head(5)"
   ]
  },
  {
   "cell_type": "code",
   "execution_count": 14,
   "id": "6ecf7c96",
   "metadata": {},
   "outputs": [],
   "source": [
    "train, validate, test = wrangle.train_validate_test_split(df)"
   ]
  },
  {
   "cell_type": "code",
   "execution_count": 15,
   "id": "47f3fd39",
   "metadata": {},
   "outputs": [
    {
     "name": "stdout",
     "output_type": "stream",
     "text": [
      "<class 'pandas.core.frame.DataFrame'>\n",
      "Int64Index: 1169459 entries, 1483210 to 1225832\n",
      "Data columns (total 7 columns):\n",
      " #   Column             Non-Null Count    Dtype  \n",
      "---  ------             --------------    -----  \n",
      " 0   bedroomcnt         1169459 non-null  int64  \n",
      " 1   bathroomcnt        1169459 non-null  float64\n",
      " 2   square_feet        1169459 non-null  int64  \n",
      " 3   taxvaluedollarcnt  1169459 non-null  int64  \n",
      " 4   yearbuilt          1169459 non-null  int64  \n",
      " 5   taxamount          1169459 non-null  float64\n",
      " 6   fips_name          1169459 non-null  object \n",
      "dtypes: float64(2), int64(4), object(1)\n",
      "memory usage: 71.4+ MB\n"
     ]
    }
   ],
   "source": [
    "train.info()"
   ]
  },
  {
   "cell_type": "code",
   "execution_count": 16,
   "id": "0ac2098d",
   "metadata": {},
   "outputs": [],
   "source": [
    "train_scaled, validate_scaled, test_scaled = wrangle.scale_data(train, validate, test)"
   ]
  },
  {
   "cell_type": "code",
   "execution_count": 17,
   "id": "ac120bac",
   "metadata": {},
   "outputs": [
    {
     "data": {
      "text/html": [
       "<div>\n",
       "<style scoped>\n",
       "    .dataframe tbody tr th:only-of-type {\n",
       "        vertical-align: middle;\n",
       "    }\n",
       "\n",
       "    .dataframe tbody tr th {\n",
       "        vertical-align: top;\n",
       "    }\n",
       "\n",
       "    .dataframe thead th {\n",
       "        text-align: right;\n",
       "    }\n",
       "</style>\n",
       "<table border=\"1\" class=\"dataframe\">\n",
       "  <thead>\n",
       "    <tr style=\"text-align: right;\">\n",
       "      <th></th>\n",
       "      <th>bedroomcnt</th>\n",
       "      <th>bathroomcnt</th>\n",
       "      <th>square_feet</th>\n",
       "      <th>taxvaluedollarcnt</th>\n",
       "      <th>yearbuilt</th>\n",
       "      <th>taxamount</th>\n",
       "      <th>fips_name</th>\n",
       "    </tr>\n",
       "  </thead>\n",
       "  <tbody>\n",
       "    <tr>\n",
       "      <th>1483210</th>\n",
       "      <td>0.2</td>\n",
       "      <td>0.272727</td>\n",
       "      <td>0.072759</td>\n",
       "      <td>0.044189</td>\n",
       "      <td>1949</td>\n",
       "      <td>1633.33</td>\n",
       "      <td>Los Angeles</td>\n",
       "    </tr>\n",
       "    <tr>\n",
       "      <th>635933</th>\n",
       "      <td>0.4</td>\n",
       "      <td>0.272727</td>\n",
       "      <td>0.074562</td>\n",
       "      <td>0.054043</td>\n",
       "      <td>1964</td>\n",
       "      <td>1711.51</td>\n",
       "      <td>Los Angeles</td>\n",
       "    </tr>\n",
       "    <tr>\n",
       "      <th>647772</th>\n",
       "      <td>0.6</td>\n",
       "      <td>0.363636</td>\n",
       "      <td>0.123669</td>\n",
       "      <td>0.378193</td>\n",
       "      <td>1979</td>\n",
       "      <td>8660.46</td>\n",
       "      <td>Orange</td>\n",
       "    </tr>\n",
       "    <tr>\n",
       "      <th>1251279</th>\n",
       "      <td>0.2</td>\n",
       "      <td>0.090909</td>\n",
       "      <td>0.011526</td>\n",
       "      <td>0.005963</td>\n",
       "      <td>1920</td>\n",
       "      <td>758.49</td>\n",
       "      <td>Los Angeles</td>\n",
       "    </tr>\n",
       "    <tr>\n",
       "      <th>772816</th>\n",
       "      <td>0.4</td>\n",
       "      <td>0.272727</td>\n",
       "      <td>0.040804</td>\n",
       "      <td>0.096488</td>\n",
       "      <td>1972</td>\n",
       "      <td>2528.32</td>\n",
       "      <td>Orange</td>\n",
       "    </tr>\n",
       "  </tbody>\n",
       "</table>\n",
       "</div>"
      ],
      "text/plain": [
       "         bedroomcnt  bathroomcnt  square_feet  taxvaluedollarcnt  yearbuilt  \\\n",
       "1483210         0.2     0.272727     0.072759           0.044189       1949   \n",
       "635933          0.4     0.272727     0.074562           0.054043       1964   \n",
       "647772          0.6     0.363636     0.123669           0.378193       1979   \n",
       "1251279         0.2     0.090909     0.011526           0.005963       1920   \n",
       "772816          0.4     0.272727     0.040804           0.096488       1972   \n",
       "\n",
       "         taxamount    fips_name  \n",
       "1483210    1633.33  Los Angeles  \n",
       "635933     1711.51  Los Angeles  \n",
       "647772     8660.46       Orange  \n",
       "1251279     758.49  Los Angeles  \n",
       "772816     2528.32       Orange  "
      ]
     },
     "execution_count": 17,
     "metadata": {},
     "output_type": "execute_result"
    }
   ],
   "source": [
    "train_scaled.head(5)"
   ]
  },
  {
   "cell_type": "code",
   "execution_count": 18,
   "id": "83094f07",
   "metadata": {},
   "outputs": [],
   "source": [
    "def wrangle_split_scale():\n",
    "    \n",
    "    df = wrangle_zillow()\n",
    "    train, validate, test = train_validate_test_split(df)\n",
    "    train_scaled, validated_scaled, test_scaled = scale_data(train, validate, test)\n",
    "    \n",
    "    return train_scaled, validate_scaled, test_scaled"
   ]
  },
  {
   "cell_type": "markdown",
   "id": "cce1afc0",
   "metadata": {},
   "source": [
    "### Everything above shows how I created my main function. I combined my wrangle, split and scale functions into one called wrangle_split_scale"
   ]
  },
  {
   "cell_type": "code",
   "execution_count": 19,
   "id": "86e7a280",
   "metadata": {},
   "outputs": [
    {
     "data": {
      "text/html": [
       "<div>\n",
       "<style scoped>\n",
       "    .dataframe tbody tr th:only-of-type {\n",
       "        vertical-align: middle;\n",
       "    }\n",
       "\n",
       "    .dataframe tbody tr th {\n",
       "        vertical-align: top;\n",
       "    }\n",
       "\n",
       "    .dataframe thead th {\n",
       "        text-align: right;\n",
       "    }\n",
       "</style>\n",
       "<table border=\"1\" class=\"dataframe\">\n",
       "  <thead>\n",
       "    <tr style=\"text-align: right;\">\n",
       "      <th></th>\n",
       "      <th>bedroomcnt</th>\n",
       "      <th>bathroomcnt</th>\n",
       "      <th>square_feet</th>\n",
       "      <th>taxvaluedollarcnt</th>\n",
       "      <th>yearbuilt</th>\n",
       "      <th>taxamount</th>\n",
       "      <th>fips_name</th>\n",
       "    </tr>\n",
       "  </thead>\n",
       "  <tbody>\n",
       "    <tr>\n",
       "      <th>1483210</th>\n",
       "      <td>0.2</td>\n",
       "      <td>0.272727</td>\n",
       "      <td>0.072759</td>\n",
       "      <td>0.044189</td>\n",
       "      <td>1949</td>\n",
       "      <td>1633.33</td>\n",
       "      <td>Los Angeles</td>\n",
       "    </tr>\n",
       "    <tr>\n",
       "      <th>635933</th>\n",
       "      <td>0.4</td>\n",
       "      <td>0.272727</td>\n",
       "      <td>0.074562</td>\n",
       "      <td>0.054043</td>\n",
       "      <td>1964</td>\n",
       "      <td>1711.51</td>\n",
       "      <td>Los Angeles</td>\n",
       "    </tr>\n",
       "    <tr>\n",
       "      <th>647772</th>\n",
       "      <td>0.6</td>\n",
       "      <td>0.363636</td>\n",
       "      <td>0.123669</td>\n",
       "      <td>0.378193</td>\n",
       "      <td>1979</td>\n",
       "      <td>8660.46</td>\n",
       "      <td>Orange</td>\n",
       "    </tr>\n",
       "    <tr>\n",
       "      <th>1251279</th>\n",
       "      <td>0.2</td>\n",
       "      <td>0.090909</td>\n",
       "      <td>0.011526</td>\n",
       "      <td>0.005963</td>\n",
       "      <td>1920</td>\n",
       "      <td>758.49</td>\n",
       "      <td>Los Angeles</td>\n",
       "    </tr>\n",
       "    <tr>\n",
       "      <th>772816</th>\n",
       "      <td>0.4</td>\n",
       "      <td>0.272727</td>\n",
       "      <td>0.040804</td>\n",
       "      <td>0.096488</td>\n",
       "      <td>1972</td>\n",
       "      <td>2528.32</td>\n",
       "      <td>Orange</td>\n",
       "    </tr>\n",
       "  </tbody>\n",
       "</table>\n",
       "</div>"
      ],
      "text/plain": [
       "         bedroomcnt  bathroomcnt  square_feet  taxvaluedollarcnt  yearbuilt  \\\n",
       "1483210         0.2     0.272727     0.072759           0.044189       1949   \n",
       "635933          0.4     0.272727     0.074562           0.054043       1964   \n",
       "647772          0.6     0.363636     0.123669           0.378193       1979   \n",
       "1251279         0.2     0.090909     0.011526           0.005963       1920   \n",
       "772816          0.4     0.272727     0.040804           0.096488       1972   \n",
       "\n",
       "         taxamount    fips_name  \n",
       "1483210    1633.33  Los Angeles  \n",
       "635933     1711.51  Los Angeles  \n",
       "647772     8660.46       Orange  \n",
       "1251279     758.49  Los Angeles  \n",
       "772816     2528.32       Orange  "
      ]
     },
     "execution_count": 19,
     "metadata": {},
     "output_type": "execute_result"
    }
   ],
   "source": [
    "train_scaled.head(5)      ## WE will be using scaled data for all of exploration, modeling and testing. "
   ]
  },
  {
   "cell_type": "code",
   "execution_count": 20,
   "id": "93be9e05",
   "metadata": {},
   "outputs": [
    {
     "data": {
      "text/html": [
       "<div>\n",
       "<style scoped>\n",
       "    .dataframe tbody tr th:only-of-type {\n",
       "        vertical-align: middle;\n",
       "    }\n",
       "\n",
       "    .dataframe tbody tr th {\n",
       "        vertical-align: top;\n",
       "    }\n",
       "\n",
       "    .dataframe thead th {\n",
       "        text-align: right;\n",
       "    }\n",
       "</style>\n",
       "<table border=\"1\" class=\"dataframe\">\n",
       "  <thead>\n",
       "    <tr style=\"text-align: right;\">\n",
       "      <th></th>\n",
       "      <th>bedroomcnt</th>\n",
       "      <th>bathroomcnt</th>\n",
       "      <th>square_feet</th>\n",
       "      <th>taxvaluedollarcnt</th>\n",
       "      <th>yearbuilt</th>\n",
       "      <th>taxamount</th>\n",
       "      <th>fips_name</th>\n",
       "    </tr>\n",
       "  </thead>\n",
       "  <tbody>\n",
       "    <tr>\n",
       "      <th>1483210</th>\n",
       "      <td>2</td>\n",
       "      <td>2.0</td>\n",
       "      <td>1733</td>\n",
       "      <td>98022</td>\n",
       "      <td>1949</td>\n",
       "      <td>1633.33</td>\n",
       "      <td>Los Angeles</td>\n",
       "    </tr>\n",
       "    <tr>\n",
       "      <th>635933</th>\n",
       "      <td>3</td>\n",
       "      <td>2.0</td>\n",
       "      <td>1766</td>\n",
       "      <td>117631</td>\n",
       "      <td>1964</td>\n",
       "      <td>1711.51</td>\n",
       "      <td>Los Angeles</td>\n",
       "    </tr>\n",
       "    <tr>\n",
       "      <th>647772</th>\n",
       "      <td>4</td>\n",
       "      <td>2.5</td>\n",
       "      <td>2665</td>\n",
       "      <td>762659</td>\n",
       "      <td>1979</td>\n",
       "      <td>8660.46</td>\n",
       "      <td>Orange</td>\n",
       "    </tr>\n",
       "    <tr>\n",
       "      <th>1251279</th>\n",
       "      <td>2</td>\n",
       "      <td>1.0</td>\n",
       "      <td>612</td>\n",
       "      <td>21957</td>\n",
       "      <td>1920</td>\n",
       "      <td>758.49</td>\n",
       "      <td>Los Angeles</td>\n",
       "    </tr>\n",
       "    <tr>\n",
       "      <th>772816</th>\n",
       "      <td>3</td>\n",
       "      <td>2.0</td>\n",
       "      <td>1148</td>\n",
       "      <td>202092</td>\n",
       "      <td>1972</td>\n",
       "      <td>2528.32</td>\n",
       "      <td>Orange</td>\n",
       "    </tr>\n",
       "  </tbody>\n",
       "</table>\n",
       "</div>"
      ],
      "text/plain": [
       "         bedroomcnt  bathroomcnt  square_feet  taxvaluedollarcnt  yearbuilt  \\\n",
       "1483210           2          2.0         1733              98022       1949   \n",
       "635933            3          2.0         1766             117631       1964   \n",
       "647772            4          2.5         2665             762659       1979   \n",
       "1251279           2          1.0          612              21957       1920   \n",
       "772816            3          2.0         1148             202092       1972   \n",
       "\n",
       "         taxamount    fips_name  \n",
       "1483210    1633.33  Los Angeles  \n",
       "635933     1711.51  Los Angeles  \n",
       "647772     8660.46       Orange  \n",
       "1251279     758.49  Los Angeles  \n",
       "772816     2528.32       Orange  "
      ]
     },
     "execution_count": 20,
     "metadata": {},
     "output_type": "execute_result"
    }
   ],
   "source": [
    "train.head()   ## The original untouched set is for data visuals only, but apparently for these exercises too"
   ]
  },
  {
   "cell_type": "code",
   "execution_count": 21,
   "id": "1e53b2c7",
   "metadata": {},
   "outputs": [
    {
     "ename": "NameError",
     "evalue": "name 'train' is not defined",
     "output_type": "error",
     "traceback": [
      "\u001b[0;31m---------------------------------------------------------------------------\u001b[0m",
      "\u001b[0;31mNameError\u001b[0m                                 Traceback (most recent call last)",
      "\u001b[0;32m/var/folders/6m/5f3p8xk954n_z611nvzksq440000gn/T/ipykernel_20275/790257684.py\u001b[0m in \u001b[0;36m<module>\u001b[0;34m\u001b[0m\n\u001b[0;32m----> 1\u001b[0;31m \u001b[0;32mimport\u001b[0m \u001b[0mexplore\u001b[0m\u001b[0;34m\u001b[0m\u001b[0;34m\u001b[0m\u001b[0m\n\u001b[0m",
      "\u001b[0;32m~/codeup-data-science/regression-exercises/explore.py\u001b[0m in \u001b[0;36m<module>\u001b[0;34m\u001b[0m\n\u001b[1;32m     14\u001b[0m         \u001b[0mplt\u001b[0m\u001b[0;34m.\u001b[0m\u001b[0mshow\u001b[0m\u001b[0;34m(\u001b[0m\u001b[0;34m)\u001b[0m\u001b[0;34m\u001b[0m\u001b[0;34m\u001b[0m\u001b[0m\n\u001b[1;32m     15\u001b[0m \u001b[0;34m\u001b[0m\u001b[0m\n\u001b[0;32m---> 16\u001b[0;31m \u001b[0mplot_variable_pairs\u001b[0m\u001b[0;34m(\u001b[0m\u001b[0mtrain\u001b[0m\u001b[0;34m)\u001b[0m\u001b[0;34m\u001b[0m\u001b[0;34m\u001b[0m\u001b[0m\n\u001b[0m\u001b[1;32m     17\u001b[0m \u001b[0;34m\u001b[0m\u001b[0m\n\u001b[1;32m     18\u001b[0m \u001b[0;34m\u001b[0m\u001b[0m\n",
      "\u001b[0;31mNameError\u001b[0m: name 'train' is not defined"
     ]
    }
   ],
   "source": [
    "import explore"
   ]
  },
  {
   "cell_type": "markdown",
   "id": "c7069aa4",
   "metadata": {},
   "source": [
    "#### Write a function named plot_variable_pairs that accepts a dataframe as input and plots all of the pairwise relationships along with the regression line for each pair."
   ]
  },
  {
   "cell_type": "code",
   "execution_count": null,
   "id": "00fde8d5",
   "metadata": {},
   "outputs": [],
   "source": [
    "def plot_variable_pairs(df,\n",
    "                        columns_x = ['bedroomcnt','bathroomcnt','square_feet','yearbuilt','taxvaluedollarcnt','taxamount'],\n",
    "                        columns_y = ['bedroomcnt','bathroomcnt','square_feet','yearbuilt','taxvaluedollarcnt','taxamount'],\n",
    "                        sampling = 1000):\n",
    "    pairs = product(columns_x, columns_y)\n",
    "    for pair in pairs:\n",
    "        sns.lmplot(x=pair[0], y=pair[1], data=df.sample(sampling), line_kws={'color': 'blue'})\n",
    "        plt.show()\n",
    "\n",
    "plot_variable_pairs(train)"
   ]
  },
  {
   "cell_type": "markdown",
   "id": "748fe972",
   "metadata": {},
   "source": [
    "#### Write a function named plot_categorical_and_continuous_vars that accepts your dataframe and the name of the columns that hold the continuous and categorical features and outputs 3 different plots for visualizing a categorical variable and a continuous variable."
   ]
  },
  {
   "cell_type": "code",
   "execution_count": null,
   "id": "713bf2f3",
   "metadata": {},
   "outputs": [],
   "source": [
    "def plot_categorical_and_continuous_vars(df,\n",
    "                                         columns_cat=['fips_name'],\n",
    "                                         columns_cont=['square_feet', 'yearbuilt', 'bedroomcnt', 'bathroomcnt', 'taxvaluedollarcnt', 'taxamount'],\n",
    "                                         sampling = 1000):\n",
    "    pairs = product(columns_cat, columns_cont)\n",
    "    for pair in pairs:\n",
    "        sns.set(rc={\"figure.figsize\":(15, 6)}) \n",
    "        fig, axes = plt.subplots(1, 3)\n",
    "\n",
    "        sns.stripplot(x=pair[0], y=pair[1], data=df.sample(sampling), ax = axes[0])\n",
    "        sns.boxplot(x=pair[0], y=pair[1], data=df.sample(sampling), ax = axes[1])\n",
    "        sns.barplot(x=pair[0], y=pair[1], data=df.sample(sampling), ax = axes[2])\n",
    "\n",
    "        plt.show\n",
    "\n",
    "plot_categorical_and_continuous_vars(train, sampling = 10_000)"
   ]
  },
  {
   "cell_type": "markdown",
   "id": "5cfb2f6b",
   "metadata": {},
   "source": [
    " #### Save the functions you have written to create visualizations in your explore.py file. Rewrite your notebook code so that you are using the functions imported from this file."
   ]
  },
  {
   "cell_type": "code",
   "execution_count": null,
   "id": "17e5ea83",
   "metadata": {},
   "outputs": [],
   "source": [
    "## import explore  functions are now imported to py file, in their place is just me calling them"
   ]
  },
  {
   "cell_type": "markdown",
   "id": "d4670004",
   "metadata": {},
   "source": [
    "#### Use the functions you created above to explore your Zillow train dataset in your explore.ipynb notebook."
   ]
  },
  {
   "cell_type": "code",
   "execution_count": null,
   "id": "471677ae",
   "metadata": {},
   "outputs": [],
   "source": []
  }
 ],
 "metadata": {
  "kernelspec": {
   "display_name": "Python 3 (ipykernel)",
   "language": "python",
   "name": "python3"
  },
  "language_info": {
   "codemirror_mode": {
    "name": "ipython",
    "version": 3
   },
   "file_extension": ".py",
   "mimetype": "text/x-python",
   "name": "python",
   "nbconvert_exporter": "python",
   "pygments_lexer": "ipython3",
   "version": "3.9.7"
  }
 },
 "nbformat": 4,
 "nbformat_minor": 5
}
